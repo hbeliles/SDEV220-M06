{
 "cells": [
  {
   "cell_type": "code",
   "execution_count": null,
   "metadata": {},
   "outputs": [],
   "source": [
    "# 13.1\n",
    "from datetime import date\n",
    "\n",
    "today = date.today().strftime(\"%Y-%m-%d\")\n",
    "\n",
    "with open(\"today.txt\", \"w\") as file:\n",
    "    file.write(today)"
   ]
  },
  {
   "cell_type": "code",
   "execution_count": null,
   "metadata": {},
   "outputs": [],
   "source": [
    "# 13.2\n",
    "with open(\"today.txt\", \"r\") as file:\n",
    "    today_data = file.read()\n"
   ]
  },
  {
   "cell_type": "code",
   "execution_count": null,
   "metadata": {},
   "outputs": [],
   "source": [
    "# 13.3\n",
    "from datetime import datetime\n",
    "\n",
    "date_obj = datetime.strptime(today_data, \"%Y-%m-%d\").date()\n"
   ]
  },
  {
   "cell_type": "code",
   "execution_count": null,
   "metadata": {},
   "outputs": [],
   "source": [
    "# 15.1\n",
    "import multiprocessing\n",
    "import random\n",
    "import time\n",
    "from datetime import datetime\n",
    "\n",
    "def print_interval():\n",
    "    wait_time = random.uniform(0, 1)\n",
    "    time.sleep(wait_time)\n",
    "    interval = datetime.now().strftime(\"%H:%M:%S\")\n",
    "    print(f\"Current time is {interval}. Process {multiprocessing.current_process().name} waited {wait_time:.3f} seconds.\")\n",
    "\n",
    "if __name__ == '__main__':\n",
    "    for i in range(3):\n",
    "        process = multiprocessing.Process(target=print_interval, name=f\"Process-{i}\")\n",
    "        process.start()\n"
   ]
  }
 ],
 "metadata": {
  "language_info": {
   "name": "python"
  },
  "orig_nbformat": 4
 },
 "nbformat": 4,
 "nbformat_minor": 2
}
